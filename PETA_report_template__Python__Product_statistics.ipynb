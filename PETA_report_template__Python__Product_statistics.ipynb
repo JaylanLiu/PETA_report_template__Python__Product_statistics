{
 "cells": [
  {
   "cell_type": "code",
   "execution_count": null,
   "metadata": {
    "tags": [
     "parameters"
    ]
   },
   "outputs": [],
   "source": [
    "token='14bf79bf-c244-4da8-b052-51cbf5546e'\n",
    "json_str='{\"studyIds\": [\"mixed_tianhua_DX0503_2020\",  \"tianhua_system_DX0503\"], \"pageSize\": 999999, \"pageIndex\": 1, \"attributesRangeFilters\": [], \"attributesEqualFilters\": [], \"mutationFilter\": {\"hugoGeneSymbols\": [], \"exacStart\": 0, \"exadEnd\": 1, \"vabundStart\": 0, \"vabundEnd\": 1, \"variantSource\": [], \"variantType\": [], \"variantClass\": [], \"sequencer\": [], \"sequencerSource\": [], \"searchStr\": \"\"}}'\n",
    "host='https://peta.bgi.com/api'"
   ]
  },
  {
   "cell_type": "code",
   "execution_count": null,
   "metadata": {
    "tags": [
     "hide"
    ]
   },
   "outputs": [],
   "source": [
    "import pandas as pd\n",
    "from pypeta import Peta\n",
    "import pypeta\n",
    "import plotly.express as px\n",
    "import json\n",
    "import numpy as np\n",
    "from IPython.display import display"
   ]
  },
  {
   "cell_type": "code",
   "execution_count": null,
   "metadata": {
    "tags": [
     "hide",
     "interaction"
    ]
   },
   "outputs": [],
   "source": [
    "try:\n",
    "    peta=Peta(token=token,host=host)\n",
    "    peta.set_data_restriction_from_json_string(json_str)\n",
    "    cli=peta.fetch_clinical_data()\n",
    "    mut=peta.fetch_mutation_data()\n",
    "except:\n",
    "    print('Failed to fetch data.')"
   ]
  },
  {
   "cell_type": "markdown",
   "metadata": {},
   "source": [
    "# 肿瘤个体化诊疗基因检测统计"
   ]
  },
  {
   "cell_type": "markdown",
   "metadata": {},
   "source": [
    "## 样本选取条件"
   ]
  },
  {
   "cell_type": "code",
   "execution_count": null,
   "metadata": {
    "tags": [
     "output"
    ]
   },
   "outputs": [],
   "source": [
    "try:\n",
    "    print(pypeta.filter_description(json_str))\n",
    "except:\n",
    "    print('Data selected don`t support this calculation.')"
   ]
  },
  {
   "cell_type": "markdown",
   "metadata": {},
   "source": [
    "## 送检样本量"
   ]
  },
  {
   "cell_type": "code",
   "execution_count": null,
   "metadata": {
    "tags": [
     "output"
    ]
   },
   "outputs": [],
   "source": [
    "try:\n",
    "    print(f'样本总量为{len(cli)}例。')\n",
    "except:\n",
    "    print('Data selected don`t support this calculation.')"
   ]
  },
  {
   "cell_type": "code",
   "execution_count": null,
   "metadata": {
    "tags": [
     "output"
    ]
   },
   "outputs": [],
   "source": [
    "try:\n",
    "    vc=pypeta.restrict_series_value_counts_to_designated_records(cli.CANCER_TYPE.value_counts())\n",
    "\n",
    "    reserved_cancer_type=list(vc.iloc[:-1,0]) if vc.iat[-1,0]=='Others' else list(vc.iloc[:,0])\n",
    "\n",
    "    print('分癌种的样本量为：')\n",
    "    fig = px.pie(vc, values='数量', names='类别')\n",
    "    fig.update_traces( texttemplate = \"%{label}: %{value} <br>%{percent}\")\n",
    "    fig.update_layout(showlegend=False)\n",
    "    fig.show()\n",
    "\n",
    "except:\n",
    "    print('Data selected don`t support this calculation.')"
   ]
  },
  {
   "cell_type": "markdown",
   "metadata": {},
   "source": [
    "## 药物检测阳性率"
   ]
  },
  {
   "cell_type": "code",
   "execution_count": null,
   "metadata": {
    "tags": [
     "hide"
    ]
   },
   "outputs": [],
   "source": [
    "#判断数据集是否支持药物阳性率的统计\n",
    "try:\n",
    "    support_for_drug_sensitivity=False\n",
    "    if 'GENETIC_TEST_RESULT' in cli.columns:\n",
    "        support_for_drug_sensitivity=True\n",
    "except:\n",
    "    print('Data selected don`t support this calculation.')"
   ]
  },
  {
   "cell_type": "code",
   "execution_count": null,
   "metadata": {
    "tags": [
     "output"
    ]
   },
   "outputs": [],
   "source": [
    "try:\n",
    "    if support_for_drug_sensitivity:\n",
    "        pr=pypeta.positive_rate(cli.GENETIC_TEST_RESULT,['阳性'])\n",
    "\n",
    "        print(f'总例数为{pr[0]}，其中有效{pr[1]}例，阳性率为{pr[2]:8.2%}。')\n",
    "    else:\n",
    "        print(\"数据不支持该选项。\")\n",
    "except:\n",
    "    print('Data selected don`t support this calculation.')"
   ]
  },
  {
   "cell_type": "code",
   "execution_count": null,
   "metadata": {
    "tags": [
     "output"
    ]
   },
   "outputs": [],
   "source": [
    "try:\n",
    "    x=cli['GENETIC_TEST_RESULT'].groupby(cli['CANCER_TYPE']).apply(lambda x: pypeta.positive_rate(x,['阳性'])[2])[reserved_cancer_type].sort_values()\n",
    "\n",
    "    xdf=pd.DataFrame(x).reset_index()\n",
    "\n",
    "\n",
    "    print('各个癌种的药物阳性率为：')\n",
    "    fig = px.bar(xdf, x='CANCER_TYPE', y='GENETIC_TEST_RESULT',text='GENETIC_TEST_RESULT',labels={\n",
    "                         'CANCER_TYPE':'癌种',\n",
    "                         'GENETIC_TEST_RESULT':'药物检出阳性率',\n",
    "                     })\n",
    "    fig.update_traces(texttemplate='%{text:%.2f%%}', textposition='outside',)\n",
    "    fig.update_layout(uniformtext_minsize=8, uniformtext_mode='hide')\n",
    "    fig.update_layout()\n",
    "    fig.show()\n",
    "except:\n",
    "    print('Data selected don`t support this calculation.')"
   ]
  },
  {
   "cell_type": "markdown",
   "metadata": {},
   "source": [
    "## 基因检出率 "
   ]
  },
  {
   "cell_type": "code",
   "execution_count": null,
   "metadata": {
    "tags": [
     "output"
    ]
   },
   "outputs": [],
   "source": [
    "try:\n",
    "    mut_freq_per_gene_df=pypeta.mut_freq_per_gene(mut).reset_index()\n",
    "\n",
    "    mut_freq_per_gene_df.columns=pd.Index(['基因','频率'])\n",
    "    print('各基因的检出率为：')\n",
    "    fig = px.bar(pypeta.mut_freq_per_gene_df[:20], x='基因', y='频率',text='频率')\n",
    "    fig.update_traces(texttemplate='%{text:%.2f%%}', textposition='outside',)\n",
    "    fig.update_layout(uniformtext_minsize=8, uniformtext_mode='hide')\n",
    "    fig.show()\n",
    "except:\n",
    "    print('Data selected don`t support this calculation.')"
   ]
  },
  {
   "cell_type": "markdown",
   "metadata": {},
   "source": [
    "## 基因突变类型检出率"
   ]
  },
  {
   "cell_type": "code",
   "execution_count": null,
   "metadata": {
    "tags": [
     "output"
    ]
   },
   "outputs": [],
   "source": [
    "print('暂未支持。')"
   ]
  },
  {
   "cell_type": "markdown",
   "metadata": {},
   "source": [
    "## TMB分布 "
   ]
  },
  {
   "cell_type": "code",
   "execution_count": null,
   "metadata": {
    "tags": [
     "hide"
    ]
   },
   "outputs": [],
   "source": [
    "try:\n",
    "    tmb_tmp_df=cli[['CANCER_TYPE','TMB']]\n",
    "\n",
    "    tmb_tmp_df=tmb_tmp_df.dropna(subset=['TMB'])\n",
    "\n",
    "    tmb_tmp_df=tmb_tmp_df[tmb_tmp_df.TMB.map(lambda x: pypeta.is_float(x))]\n",
    "\n",
    "    tmb_tmp_df.loc[:,'TMB']=tmb_tmp_df.TMB.astype('float')\n",
    "\n",
    "    tmb_describe_df=tmb_tmp_df.TMB.groupby(tmb_tmp_df.CANCER_TYPE).describe().T\n",
    "\n",
    "    tmb_describe_df=tmb_describe_df[reserved_cancer_type]\n",
    "\n",
    "    tmb_describe_df['全部']=tmb_tmp_df.TMB.describe()\n",
    "except:\n",
    "    print('Data selected don`t support this calculation.')"
   ]
  },
  {
   "cell_type": "code",
   "execution_count": null,
   "metadata": {
    "tags": [
     "output"
    ]
   },
   "outputs": [],
   "source": [
    "try:\n",
    "    print(f'存在TMB记录的样本共{len(tmb_tmp_df)}例。')\n",
    "except:\n",
    "    print('Data selected don`t support this calculation.')"
   ]
  },
  {
   "cell_type": "code",
   "execution_count": null,
   "metadata": {
    "tags": [
     "output"
    ]
   },
   "outputs": [],
   "source": [
    "try:\n",
    "    \n",
    "    print(f'全部样本及样本量前20的分癌种样本TMB统计值如下：')\n",
    "    pd.set_option('display.width',1000) \n",
    "    # 小技巧：在try模块中直接打印变量名，Out中不会输出变量内容。此时使用print函数生成的内容是未格式化的表格。可以使用IPython.display下的display函数来实现格式化的输出\n",
    "    display(tmb_describe_df.T)\n",
    "except:\n",
    "    print('Data selected don`t support this calculation.')\n",
    "\n"
   ]
  },
  {
   "cell_type": "code",
   "execution_count": null,
   "metadata": {
    "tags": [
     "output"
    ]
   },
   "outputs": [],
   "source": [
    "try:\n",
    "    total_tmp_tdf=cli.TMB[cli.TMB.map(lambda x: pypeta.is_float(x))].reset_index()\n",
    "\n",
    "    print('全部样本的TMB分布如下:')\n",
    "    fig=px.histogram(total_tmp_tdf, x='TMB',labels={'x':'TMB','y':'百分比'},histnorm='probability density',marginal=\"rug\",)\n",
    "    fig.show()\n",
    "except:\n",
    "    print('Data selected don`t support this calculation.')"
   ]
  },
  {
   "cell_type": "code",
   "execution_count": null,
   "metadata": {
    "tags": [
     "output"
    ]
   },
   "outputs": [],
   "source": [
    "try:\n",
    "    tmb_tmp_df=tmb_tmp_df[tmb_tmp_df.CANCER_TYPE.isin(reserved_cancer_type)]\n",
    "\n",
    "    tmb_tmp_df.columns=pd.Index(['癌症类型','TMB'])\n",
    "\n",
    "    print('分癌种的TMB分布如下：')\n",
    "    fig=px.violin(tmb_tmp_df,x='癌症类型', y=\"TMB\", box=True, # draw box plot inside the violin\n",
    "                    points='all', # can be 'outliers', or False\n",
    "                   )\n",
    "    fig.show()\n",
    "except:\n",
    "    print('Data selected don`t support this calculation.')"
   ]
  },
  {
   "cell_type": "markdown",
   "metadata": {},
   "source": [
    "## MSI分布"
   ]
  },
  {
   "cell_type": "code",
   "execution_count": null,
   "metadata": {
    "tags": [
     "output"
    ]
   },
   "outputs": [],
   "source": [
    "try:\n",
    "    msi_tmp_df=cli[['CANCER_TYPE','MSI_STATUS']]\n",
    "\n",
    "    msi_tmp_df=msi_tmp_df.dropna(subset=['MSI_STATUS'])\n",
    "\n",
    "    print(f'存在MSI记录的样本共{len(msi_tmp_df)}例。')\n",
    "except:\n",
    "    print('Data selected don`t support this calculation.')"
   ]
  },
  {
   "cell_type": "code",
   "execution_count": null,
   "metadata": {
    "tags": [
     "output"
    ]
   },
   "outputs": [],
   "source": [
    "try:\n",
    "    print(f'其分布如下：')\n",
    "\n",
    "\n",
    "    fig= px.pie(msi_tmp_df.MSI_STATUS.value_counts().reset_index(), values='MSI_STATUS', names='index')\n",
    "    fig.update_traces( texttemplate = \"%{label}: %{value} <br>%{percent}\")\n",
    "    fig.update_layout(showlegend=False)\n",
    "    fig.show()\n",
    "except:\n",
    "    print('Data selected don`t support this calculation.')"
   ]
  },
  {
   "cell_type": "code",
   "execution_count": null,
   "metadata": {
    "tags": [
     "output"
    ]
   },
   "outputs": [],
   "source": [
    "try:\n",
    "    msi_tmp_df=msi_tmp_df[msi_tmp_df.CANCER_TYPE.isin(reserved_cancer_type)]\n",
    "\n",
    "    tmp=msi_tmp_df.MSI_STATUS.groupby(msi_tmp_df.CANCER_TYPE).value_counts().reset_index('CANCER_TYPE')\n",
    "\n",
    "    tmp=tmp.rename(columns={'MSI_STATUS':'COUNT'})\n",
    "\n",
    "    tmp=tmp.reset_index()\n",
    "\n",
    "    print('分癌种的MSI分布如下：')\n",
    "    fig=px.sunburst(tmp,path=['CANCER_TYPE','MSI_STATUS'],values='COUNT')\n",
    "    fig.update_traces( texttemplate = \"%{label}: %{value} \")\n",
    "    fig.update_layout(showlegend=False)\n",
    "    fig.show()\n",
    "except:\n",
    "    print('Data selected don`t support this calculation.')"
   ]
  },
  {
   "cell_type": "code",
   "execution_count": null,
   "metadata": {
    "tags": [
     "output"
    ]
   },
   "outputs": [],
   "source": [
    "try:\n",
    "    msi_tmp_df.columns=pd.Index(['癌症类型','MSI状态'])\n",
    "\n",
    "    fig = px.parallel_categories(msi_tmp_df,)\n",
    "    fig.show()\n",
    "except:\n",
    "    print('Data selected don`t support this calculation.')"
   ]
  }
 ],
 "metadata": {
  "celltoolbar": "Tags",
  "kernelspec": {
   "display_name": "Python 3",
   "language": "python",
   "name": "python3"
  },
  "language_info": {
   "codemirror_mode": {
    "name": "ipython",
    "version": 3
   },
   "file_extension": ".py",
   "mimetype": "text/x-python",
   "name": "python",
   "nbconvert_exporter": "python",
   "pygments_lexer": "ipython3",
   "version": "3.7.3"
  },
  "toc": {
   "base_numbering": 1,
   "nav_menu": {},
   "number_sections": true,
   "sideBar": true,
   "skip_h1_title": false,
   "title_cell": "Table of Contents",
   "title_sidebar": "Contents",
   "toc_cell": false,
   "toc_position": {},
   "toc_section_display": true,
   "toc_window_display": false
  }
 },
 "nbformat": 4,
 "nbformat_minor": 2
}
